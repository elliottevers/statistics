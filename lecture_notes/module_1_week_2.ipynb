{
 "cells": [
  {
   "cell_type": "markdown",
   "metadata": {},
   "source": [
    "### Scatter Plots\n",
    "- can used To visualize correlations between two variables\n",
    "- customary to put the explanatory variable on the x-axis and the response variable on the y-axis"
   ]
  },
  {
   "cell_type": "markdown",
   "metadata": {},
   "source": [
    "### Dot plots\n",
    "- like histograms, but an additional observation is represented with a dot instead of contributing more length to a bar"
   ]
  },
  {
   "cell_type": "markdown",
   "metadata": {},
   "source": [
    "Data sets are usually not the result of randomized trials, so we can only infer correlation from them\n",
    "\n",
    "\n",
    "Histograms Are a good way to visualize the distribution of a variable, and provide a view of the data density"
   ]
  },
  {
   "cell_type": "markdown",
   "metadata": {},
   "source": [
    "### Modality \n",
    "- a way to measure the number of peaks in the distribution"
   ]
  },
  {
   "cell_type": "markdown",
   "metadata": {},
   "source": [
    "### Box and Whisker Plot\n",
    "- essentially a series of five statistics: minimum, first quartile, median, third quartile, maximum"
   ]
  },
  {
   "cell_type": "markdown",
   "metadata": {},
   "source": [
    "In skewed distribution, we talk of, for instance, a left tail **pulling** the mean to the left of the median"
   ]
  },
  {
   "cell_type": "markdown",
   "metadata": {},
   "source": [
    "Variance:\n",
    "```\n",
    "Real variance(RandomVariable X | X has been observed){\n",
    "    List<Observation> observations = observations(X)\n",
    "    Integer n = length(observations)\n",
    "    List<Real> differences = [observation - mean(observations) for observation in observations]\n",
    "    return sum(differences)/(n-1)\n",
    "}\n",
    "```"
   ]
  },
  {
   "cell_type": "markdown",
   "metadata": {},
   "source": [
    "The units of the variance are not the same units as the observations, since we square them in the variance formula"
   ]
  },
  {
   "cell_type": "markdown",
   "metadata": {},
   "source": [
    "### Diversity \n",
    "- measure of the number of labels on the data\n",
    "\n",
    "### Variability\n",
    "- measure of how far the date is for mean."
   ]
  },
  {
   "cell_type": "markdown",
   "metadata": {},
   "source": [
    "A statistic is **robust** if it is resilient to extreme observations.  The more skewed a distribution is, the more useful a robust statistic is\n",
    "\n",
    "For measurements of center, the medium is more robust than the mean"
   ]
  },
  {
   "cell_type": "markdown",
   "metadata": {},
   "source": [
    "The interquartile range is more robust than the standard deviation or range (the difference between the min and max)\n",
    "\n",
    "### Natural log transformation\n",
    "- Useful for observations that cluster near zero, relative to other very large values\n",
    "- Distributions that are skewed near zero can be made more symmetric by applying a log transformation\n",
    "- We can use the log function to make the data more when year\n",
    "\n",
    "Bar plots are used for categorical data, while histograms are used for continuous data (You have to specify a bin size)\n",
    "\n",
    "In a bar chart, bar positions are interchangeable; in a histogram, numbers are both continuous and in an order\n",
    "\n",
    "### Contingency Table\n",
    "\n",
    "- this is a two-dimensional grid with a separate variables on each axis. This is used to show conditional distribution\n",
    "\n",
    "### Segmented Bar Chart\n",
    "- can also be used to show conditional distributions. We can make this type of graph showing relative frequencies if he wanted to normalize\n",
    "\n",
    "### Mosaic plot\n",
    "With the Mosaic law, we cannot only see conditional distributions but also the marginal distribution as well. In this plot, the width of the bars/bins, Is proportional the amount of data actually captured by them"
   ]
  }
 ],
 "metadata": {
  "kernelspec": {
   "display_name": "Python 3",
   "language": "python",
   "name": "python3"
  },
  "language_info": {
   "codemirror_mode": {
    "name": "ipython",
    "version": 3
   },
   "file_extension": ".py",
   "mimetype": "text/x-python",
   "name": "python",
   "nbconvert_exporter": "python",
   "pygments_lexer": "ipython3",
   "version": "3.7.0"
  }
 },
 "nbformat": 4,
 "nbformat_minor": 2
}
