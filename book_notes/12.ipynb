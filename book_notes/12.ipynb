{
 "cells": [
  {
   "cell_type": "markdown",
   "metadata": {},
   "source": [
    "# Nonparametric Inference"
   ]
  },
  {
   "cell_type": "markdown",
   "metadata": {},
   "source": [
    "# Density Estimate"
   ]
  },
  {
   "cell_type": "markdown",
   "metadata": {},
   "source": [
    "# Functionals"
   ]
  },
  {
   "cell_type": "markdown",
   "metadata": {},
   "source": [
    "```\n",
    "typedef Function<DistributionSpace -> Real> StatisticalFunctional\n",
    "```"
   ]
  },
  {
   "cell_type": "markdown",
   "metadata": {},
   "source": [
    "# Plug In Estimator"
   ]
  },
  {
   "cell_type": "markdown",
   "metadata": {},
   "source": [
    "**Plug In Principle** - we can estimate a feature of a probability distribution by using the features of the empirical distribution"
   ]
  },
  {
   "cell_type": "markdown",
   "metadata": {},
   "source": [
    "Our n-th estimator (which is a random variable itself) is a function, $\\int a ( x ) d \\widehat { F } _ { n } ( x )$, of the n-th empirical distribution function."
   ]
  },
  {
   "cell_type": "markdown",
   "metadata": {},
   "source": [
    "```\n",
    "UnboundedSequence<\n",
    "    Estimator\n",
    "> plug_in_estimator(\n",
    "    Function<CDF -> PopulationParameter> T,\n",
    "    PopulationParameter theta,\n",
    "    CDF F\n",
    "){\n",
    "    return UnboundedSequence plug_in_estimators = [\n",
    "        T(empirical_cdf(F))\n",
    "    ]\n",
    "}\n",
    "```"
   ]
  },
  {
   "cell_type": "markdown",
   "metadata": {},
   "source": [
    "# Empirical Distribution Function"
   ]
  },
  {
   "cell_type": "markdown",
   "metadata": {},
   "source": [
    "```\n",
    "Real empirical_cdf(\n",
    "    UnboundedSequence<RandomVariable> X_n, # samples\n",
    "    Integer n, # number of samples\n",
    "    Real x\n",
    "){\n",
    "    # X_i is a data point\n",
    "    Map<RandomVariable, Bit> bits = [\n",
    "        1 if X_i <= x else 0\n",
    "        for X_i\n",
    "        in X_n\n",
    "    ]\n",
    "    return sum(bits)/n\n",
    "}\n",
    "```"
   ]
  },
  {
   "cell_type": "markdown",
   "metadata": {},
   "source": [
    "# Correlation\n",
    "```\n",
    "Real correlation(\n",
    "    RandomVariable X,\n",
    "    RandomVariable Y\n",
    "){\n",
    "    return quotient(\n",
    "        product(\n",
    "            E(difference(X, E(X))), E(difference(Y, E(Y)))\n",
    "        ),\n",
    "        product(\n",
    "            std_dev(X), std_dev(Y)\n",
    "        )\n",
    "    )\n",
    "}\n",
    "```"
   ]
  }
 ],
 "metadata": {
  "kernelspec": {
   "display_name": "Python 3",
   "language": "python",
   "name": "python3"
  },
  "language_info": {
   "codemirror_mode": {
    "name": "ipython",
    "version": 3
   },
   "file_extension": ".py",
   "mimetype": "text/x-python",
   "name": "python",
   "nbconvert_exporter": "python",
   "pygments_lexer": "ipython3",
   "version": "3.7.0"
  }
 },
 "nbformat": 4,
 "nbformat_minor": 2
}
