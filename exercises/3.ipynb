{
 "cells": [
  {
   "cell_type": "markdown",
   "metadata": {},
   "source": [
    "# Q: Show that $\\mathbb { P } ( X = x ) = F \\left( x ^ { + } \\right) - F \\left( x ^ { - } \\right)$."
   ]
  },
  {
   "cell_type": "markdown",
   "metadata": {},
   "source": [
    "# A:"
   ]
  },
  {
   "cell_type": "markdown",
   "metadata": {},
   "source": [
    "Note that $\\mathbb { P } ( X = x ) = \\mathbb { P } ( X \\leq x ) - \\mathbb { P } ( X < x )$, but how can we express these two quantities as CDFs?"
   ]
  },
  {
   "cell_type": "markdown",
   "metadata": {},
   "source": [
    "### $\\mathbb { P } ( X \\leq x )$"
   ]
  },
  {
   "cell_type": "markdown",
   "metadata": {},
   "source": [
    "Assume we have a decreasing sequence, $U_n$, that converges to x.  We can make another sequence $L_n = \\{y \\in X | X < U_n\\}$  But this means $$ F(x^{+}) = \\lim _ { n \\rightarrow \\infty } F \\left( x _ { n } \\right) = \\lim _ { n \\rightarrow \\infty } \\mathbb { P } \\left( L _ { n } \\right) = \\mathbb { P } ( X \\leq x )$$"
   ]
  },
  {
   "cell_type": "markdown",
   "metadata": {},
   "source": [
    "### $ \\mathbb { P } ( X < x )$"
   ]
  },
  {
   "cell_type": "markdown",
   "metadata": {},
   "source": [
    "Now, consider the sequence, $x - 1/n$, that converges to x from below:\n",
    "$$ F \\left( x ^ { - } \\right) = \\lim _ { n \\rightarrow \\infty } F ( x - 1 / n ) = \\lim _ { n \\rightarrow \\infty } \\mathbb { P } ( X \\leq x - 1 / n ) = \\mathbb { P } ( X < x )$$"
   ]
  },
  {
   "cell_type": "markdown",
   "metadata": {},
   "source": [
    "# Q: $\\text { Let } X \\text { have probability density function }$ $$ f _ { X } ( x ) = \\left\\{ \\begin{array} { c c } { 1 / 4 } & { 0 < x < 1 } \\\\ { 3 / 8 } & { 3 < x < 5 } \\\\ { 0 } & { \\text { otherwise } } \\end{array} \\right.$$ $$ \\left. \\begin{array} { 1 } { \\text { (a) Find the cumulative distribution function of } X } \\\\ { \\text { (b) Let } Y = 1 / X. \\text { Find the probability density function } f _ { Y } ( y ) \\text { for } Y } \\\\ { \\text { Hint: Consider three cases: } \\frac { 1 } { 5 } \\leq y \\leq \\frac { 1 } { 3 } , \\frac { 1 } { 3 } \\leq y \\leq 1 , \\text { and } y \\geq 1 } \\end{array} \\right. $$"
   ]
  },
  {
   "cell_type": "markdown",
   "metadata": {},
   "source": [
    "# A:"
   ]
  },
  {
   "cell_type": "markdown",
   "metadata": {},
   "source": [
    "**(a)**"
   ]
  },
  {
   "cell_type": "markdown",
   "metadata": {},
   "source": [
    "$$ F( x ) = \\left\\{ \\begin{array} { c c } {0} & {x \\leq 0} \\\\ { \\int _ { 0 } ^ { x } \\frac { 1 } { 4 } \\mathrm { dx } } & { 0 < x < 1 } \\\\ {\\frac{1}{4}} & {1 < x < 2} \\\\ { \\int _ { 3 } ^ x \\frac { 3 } { 8 } dx } & { 3 < x < 5 } \\\\ { 0 } & { \\text { otherwise } } \\end{array} \\right.$$"
   ]
  },
  {
   "cell_type": "markdown",
   "metadata": {},
   "source": [
    "**(b)**"
   ]
  },
  {
   "cell_type": "markdown",
   "metadata": {},
   "source": [
    "# Q: Let $X$ and $Y$ be discrete random variables.  Show that $X$ and $Y$ are independent if and only if $f _ { X , Y } ( x , y ) = f _ { X } ( x ) f _ { Y } ( y )$ for all $x$ and $y$."
   ]
  },
  {
   "cell_type": "markdown",
   "metadata": {},
   "source": [
    "# A:"
   ]
  },
  {
   "cell_type": "markdown",
   "metadata": {},
   "source": [
    "Assume X and Y are independent.  Then, $$f ( x , y ) = \\mathbb { P } ( X = x , Y = y ) = \\mathbb { P } ( X = x ) \\mathbb { P } ( Y = y ) = f _ { X } ( x ) f _ { Y } ( y )$$."
   ]
  },
  {
   "cell_type": "markdown",
   "metadata": {},
   "source": [
    "Assume $f _ { X , Y } ( x , y ) = f _ { X } ( x ) f _ { Y } ( y ) \\text { for all } x \\text { and } y$. Then, $$\\mathbb { P } ( X \\in A , Y \\in B ) = \\sum _ { x \\in A } \\sum _ { y \\in B } f ( x , y ) = \\sum _ { x \\in A } \\sum _ { y \\in B } f _ { x } ( x ) f _ { Y } ( y ) = \\sum _ { x \\in A } f _ { X } ( x ) \\sum _ { y \\in B } f _ { Y } ( y ) = \\mathbb { P } ( X \\in A ) \\mathbb { P } ( Y \\in B )$$ and $X$ and $Y$ are independent."
   ]
  }
 ],
 "metadata": {
  "kernelspec": {
   "display_name": "Python Jupyter",
   "language": "python",
   "name": "jupyter_env"
  }
 },
 "nbformat": 4,
 "nbformat_minor": 2
}
