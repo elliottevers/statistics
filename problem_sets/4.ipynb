{
 "cells": [
  {
   "cell_type": "markdown",
   "metadata": {},
   "source": [
    "# Q: $$\\left. \\begin{array} { l } { \\text { Suppose we play a game where we start with c dollars. On each play of } } \\\\ { \\text { the game you either double or halve your money, with equal probability. } } \\\\ { \\text { What is your expected fortune after } n \\text { trials? } } \\end{array} \\right.$$"
   ]
  },
  {
   "cell_type": "markdown",
   "metadata": {},
   "source": [
    "# A:"
   ]
  },
  {
   "cell_type": "markdown",
   "metadata": {},
   "source": [
    "The expected value of our \"current fortune multiplier\" is $\\frac{1}{2}\\frac{1}{2} + 2\\frac{1}{2}$.  Muliplying this multiplier for n trials we get $(\\frac{5}{4})^{n}$.  Assuming we start with $c$ dollars, the expectation of eventual fortune is $$c \\left( \\frac { 5 } { 4 } \\right) ^ { n }$$."
   ]
  },
  {
   "cell_type": "markdown",
   "metadata": {},
   "source": [
    "# Q: $$ \\left. \\begin{array} { l } { \\text { Let } X _ { 1 } , \\ldots , X _ { n } \\sim \\text { Uniform } ( 0,1 ) \\text { and let } Y _ { n } = \\max \\left\\{ X _ { 1 } , \\ldots , X _ { n } \\right\\} . \\text { Find } } \\\\ { \\mathbb { E } \\left( Y _ { n } \\right) . } \\end{array} \\right.$$"
   ]
  },
  {
   "cell_type": "markdown",
   "metadata": {},
   "source": [
    "# A: "
   ]
  },
  {
   "cell_type": "markdown",
   "metadata": {},
   "source": [
    "We have the following straight-forward calculation:"
   ]
  },
  {
   "cell_type": "markdown",
   "metadata": {},
   "source": [
    "**CDF**"
   ]
  },
  {
   "cell_type": "markdown",
   "metadata": {},
   "source": [
    "$$ F_{Y_n} ( y ) = \\mathbb { P } \\left( Y _ { n } \\leq y \\right) = \\prod _ { i = 1 } ^ { n } \\mathbb { P } \\left( X _ { i } \\leq y \\right) = y^n$$"
   ]
  },
  {
   "cell_type": "markdown",
   "metadata": {},
   "source": [
    "**PDF**"
   ]
  },
  {
   "cell_type": "markdown",
   "metadata": {},
   "source": [
    "$$f_{Y_n} ( y ) = \\frac{d}{dy} F _ { Y _ { n } } ( y ) = n y ^ { n - 1 }$$"
   ]
  },
  {
   "cell_type": "markdown",
   "metadata": {},
   "source": [
    "**Expectation**"
   ]
  },
  {
   "cell_type": "markdown",
   "metadata": {},
   "source": [
    "$$ \\mathbb{E} \\left( Y _ { n } \\right) = \\int _ { 0 } ^ { 1 } y f_{Y_n} ( y ) d y = \\int _ { 0 } ^ { 1 } y (ny ^ { n - 1 }) d y = \\frac { n } { n + 1 }$$"
   ]
  },
  {
   "cell_type": "markdown",
   "metadata": {},
   "source": [
    "# Q: Find the expectation and variance of a random walk, where a particle takes a step to the left with probability $p$ and to the right with a probability of $p-1$."
   ]
  },
  {
   "cell_type": "markdown",
   "metadata": {},
   "source": [
    "# A:"
   ]
  },
  {
   "cell_type": "markdown",
   "metadata": {},
   "source": [
    "**Expectation**"
   ]
  },
  {
   "cell_type": "markdown",
   "metadata": {},
   "source": [
    "The expectation of a single **step**, call it $S_i$, of this walk is $$-1(p) + 1(1-p)$$.  The value of the entire walk is $$\\sum _ { i = 1 } ^ { n } S _ { i }$$ so $$ \\mathbb{E}\\big(\\sum _ { i = 1 } ^ { n } S _ { i }\\big) = \\sum _ { i = 1 } ^ { n } \\mathbb{E}(S _ { i }) = \\sum _ { i = 1 } ^ { n } 1 - 2p = n(1 - 2p)$$.  "
   ]
  },
  {
   "cell_type": "markdown",
   "metadata": {},
   "source": [
    "**Variance**"
   ]
  },
  {
   "cell_type": "markdown",
   "metadata": {},
   "source": [
    "The variance of $S_i$ is $$ 1 - ( 1 - 2 p ) ^ { 2 } = 4 p ( 1 - p ) $$ and since these are assumed to be **independent** steps, we have $$\\mathbb{V} \\big( \\sum _ { i = 1 } ^ { n } S _ { i } \\big)= \\sum _ { i = 1 } ^ { n } \\mathbb{V}(S _ { i }) = 4 n p ( 1 - p )$$."
   ]
  },
  {
   "cell_type": "markdown",
   "metadata": {},
   "source": [
    "# Q: Prove the law of the unconsious statistician for discrete variables."
   ]
  },
  {
   "cell_type": "markdown",
   "metadata": {},
   "source": [
    "# A:"
   ]
  },
  {
   "cell_type": "markdown",
   "metadata": {},
   "source": [
    "Let $X = r(Y)$.  Then, $$ \\mathbb { E } ( Y ) = \\sum _ { y \\in Y } y \\mathbb { P } ( Y = y ) = \\sum _ { y \\in Y } y \\mathbb { P } ( r ( X ) = y )$$"
   ]
  },
  {
   "cell_type": "markdown",
   "metadata": {},
   "source": [
    "But the transformation could have condensed many values of the random variable $X$ to a single point, so we have to sum the proabilities of those values of $X$ to get the probability of getting $y$."
   ]
  },
  {
   "cell_type": "markdown",
   "metadata": {},
   "source": [
    "So, $$ \\sum _ { y \\in Y } y \\mathbb { P } ( r ( X ) = y ) = \\sum _ { y \\in Y } \\big( \\sum _ { x \\in r ^ { - 1 } ( y ) } y \\mathbb { P } ( X = x ) \\big) = \\sum _ { y \\in Y } \\big( \\sum _ { x \\in r ^ { - 1 } ( y ) } r ( x ) \\mathbb { P } ( X = x ) \\big) = \\sum _ { x \\in X } r ( x ) \\mathbb { P } ( X = x ) = \\sum _ { x \\in X } r ( x ) f ( x )$$"
   ]
  },
  {
   "cell_type": "markdown",
   "metadata": {},
   "source": [
    "# Q: Prove that $\\mathbb { E } \\left( \\overline { X } _ { n } \\right) = \\mu$ and $\\mathbb { V } \\left( \\overline { X } _ { n } \\right) = \\sigma ^ { 2 } / n$."
   ]
  },
  {
   "cell_type": "markdown",
   "metadata": {},
   "source": [
    "# A:"
   ]
  },
  {
   "cell_type": "markdown",
   "metadata": {},
   "source": [
    "Recall that $\\overline{X_n}$, called the sample mean, is $$ \\frac{1}{n} \\sum_{i=1}^{n}{X_i}$$."
   ]
  },
  {
   "cell_type": "markdown",
   "metadata": {},
   "source": [
    "So, $$\\mathbb{E}(\\overline{X_n}) = \\mathbb{E}(\\frac{1}{n} \\sum_{i=1}^{n}{X_i}) = \\frac{1}{n} \\sum_{i=1}^{n} \\mathbb{E}(X_i) = \\frac{1}{n} nμ = μ$$"
   ]
  },
  {
   "cell_type": "markdown",
   "metadata": {},
   "source": [
    "As for variance, $$ \\operatorname { \\mathbb{V} } \\left( \\frac { 1 } { n } \\sum _ { i = 1 } ^ { n } X _ { i } \\right) = \\\\ \\operatorname { \\mathbb{V} } \\left( \\frac { 1 } { n } X _ { 1 } + \\frac { 1 } { n } X _ { 2 } + \\cdots + \\frac { 1 } { n } X _ { n } \\right) = \\\\ \\frac { 1 } { n ^ { 2 } } \\operatorname { \\mathbb{V} } \\left( X _ { 1 } \\right) + \\frac { 1 } { n ^ { 2 } } \\operatorname { \\mathbb{V} } \\left( X _ { 2 } \\right) + \\cdots + \\frac { 1 } { n ^ { 2 } } \\operatorname { \\mathbb{V} } \\left( X _ { n } \\right) = \\\\ \\frac { 1 } { n ^ { 2 } } \\left( n \\sigma ^ { 2 } \\right) = \\\\ \\frac { \\sigma ^ { 2 } } { n }$$."
   ]
  },
  {
   "cell_type": "markdown",
   "metadata": {},
   "source": [
    "# Q: $$ \\left. \\begin{array} { c } { \\text { Let r(x) be a function of } \\mathrm { x } \\text { and let s(y) be a function of } y . \\text { Show that } } \\\\ { \\mathbb { E } ( r ( X ) s ( Y ) | X ) = r ( X ) \\mathbb { E } ( s ( Y ) | X )} \\\\ { \\text { Also, show that } \\mathbb { E } ( r ( X ) | X ) = r ( X ) } \\end{array} \\right.$$"
   ]
  },
  {
   "cell_type": "markdown",
   "metadata": {},
   "source": [
    "# Summary: \n",
    "```\n",
    "Proposition<\n",
    "    Expectation<\n",
    "        ConditionalDistribution<\n",
    "            Product<\n",
    "                ...\n",
    "            >\n",
    "        >\n",
    "    >,\n",
    "    Product<\n",
    "        RandomVariable<\n",
    "            ...\n",
    "        >,\n",
    "        Expectation<\n",
    "            ...\n",
    "        >\n",
    "    >\n",
    "> theorem (\n",
    "    RandomVariable X,\n",
    "    RandomVariable Y,\n",
    "    Function<Real -> Real> r,\n",
    "    Function<Real -> Real> s,\n",
    "){\n",
    "    return Expression(Expectation, X, Y, r, s) == Expression(Expectation, X, Y, r, s)\n",
    "}\n",
    "```"
   ]
  },
  {
   "cell_type": "markdown",
   "metadata": {},
   "source": [
    "# Q: $$ \\text{ Prove that } \\mathrm { \\mathbb{V} } ( Y ) = \\mathbb { E } \\mathrm { \\mathbb{V} } ( Y | X ) + \\mathrm { \\mathbb{V}\\mathbb{E} } ( Y | X ). $$"
   ]
  },
  {
   "cell_type": "markdown",
   "metadata": {},
   "source": [
    "# Summary:  "
   ]
  },
  {
   "cell_type": "markdown",
   "metadata": {},
   "source": [
    "```\n",
    "Proposition<\n",
    "    Variance<\n",
    "        RandomVariable<\n",
    "        >\n",
    "    >,\n",
    "    Sum<\n",
    "        Expectation<\n",
    "            Variance<\n",
    "                ConditionalDistribution\n",
    "            >\n",
    "        >,\n",
    "        Variance<\n",
    "            Expectation<\n",
    "                ConditionalDistribution\n",
    "            >\n",
    "        >\n",
    "    >\n",
    "> theorem(RandomVariable X, RandomVariable Y){\n",
    "    return Expression(...) = Expression(...)\n",
    "}\n",
    "```"
   ]
  }
 ],
 "metadata": {
  "kernelspec": {
   "display_name": "Python 3",
   "language": "python",
   "name": "python3"
  },
  "language_info": {
   "codemirror_mode": {
    "name": "ipython",
    "version": 3
   },
   "file_extension": ".py",
   "mimetype": "text/x-python",
   "name": "python",
   "nbconvert_exporter": "python",
   "pygments_lexer": "ipython3",
   "version": "3.7.0"
  }
 },
 "nbformat": 4,
 "nbformat_minor": 2
}
