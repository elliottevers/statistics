{
 "cells": [
  {
   "cell_type": "markdown",
   "metadata": {},
   "source": [
    "typedef Function<RandomVariable... -> Real> Statistic"
   ]
  },
  {
   "cell_type": "markdown",
   "metadata": {},
   "source": [
    "typeof(sample_mean) == Statistic"
   ]
  },
  {
   "cell_type": "markdown",
   "metadata": {},
   "source": [
    "typeof(sample_variance) == Statistic"
   ]
  },
  {
   "cell_type": "markdown",
   "metadata": {},
   "source": [
    "### n-th sample mean of normal has true mean and (true variance)/n"
   ]
  },
  {
   "cell_type": "markdown",
   "metadata": {},
   "source": [
    "### Central Limit Theorem\n",
    "```\n",
    "Proposition<\n",
    "    Limit<\n",
    "        Probability<\n",
    "            NormalizationTransformation<\n",
    "                SampleMean\n",
    "            >\n",
    "        >\n",
    "    >,\n",
    "    Expression\n",
    "> clt(\n",
    "    RandomVariable X... | mean(X) = μ, variance(X) = σ^2, iid\n",
    "    Real z\n",
    ") {\n",
    "    ...\n",
    "    # give me a Z score and a set of samples\n",
    "    # as we collect more sample, the probability of the sample average being less than the z score is the following\n",
    "    return integral(\n",
    "        ...\n",
    "    )\n",
    "}\n",
    "```"
   ]
  }
 ],
 "metadata": {
  "kernelspec": {
   "display_name": "Python 3",
   "language": "python",
   "name": "python3"
  },
  "language_info": {
   "codemirror_mode": {
    "name": "ipython",
    "version": 3
   },
   "file_extension": ".py",
   "mimetype": "text/x-python",
   "name": "python",
   "nbconvert_exporter": "python",
   "pygments_lexer": "ipython3",
   "version": "3.7.0"
  }
 },
 "nbformat": 4,
 "nbformat_minor": 2
}
