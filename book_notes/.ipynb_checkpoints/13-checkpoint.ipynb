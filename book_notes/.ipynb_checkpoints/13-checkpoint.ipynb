{
 "cells": [
  {
   "cell_type": "markdown",
   "metadata": {},
   "source": [
    "# Bootstrap"
   ]
  },
  {
   "cell_type": "markdown",
   "metadata": {},
   "source": [
    "Instead of assuming the data-generating process is normal, as in a t-test, we estimate the sampling distribution itself using $\\hat{F}$"
   ]
  },
  {
   "cell_type": "markdown",
   "metadata": {},
   "source": [
    "Resample, **with replacement**, many times with your non-simulated sample"
   ]
  },
  {
   "cell_type": "markdown",
   "metadata": {},
   "source": [
    "A t-test won't work for trimmed means, standard deviations, quantiles,..."
   ]
  },
  {
   "cell_type": "markdown",
   "metadata": {},
   "source": [
    "Parametric vs nonparametric - https://stats.stackexchange.com/questions/47253/questions-on-parametric-and-non-parametric-bootstrap"
   ]
  },
  {
   "cell_type": "markdown",
   "metadata": {},
   "source": [
    "The bootstrap can be used for any estimator"
   ]
  },
  {
   "cell_type": "markdown",
   "metadata": {},
   "source": [
    "```\n",
    "typedef UnboundedSequence<RandommVariable> BootstrapSample | the samples follow the n-th empirical distribution of P, where n is the size of sequence\n",
    "```"
   ]
  },
  {
   "cell_type": "markdown",
   "metadata": {},
   "source": [
    "$Var_p(\\hat{\\theta_n})$, $Var_p(g(X_1, ...., X_n))$, $S _ { n } ( P )$\n",
    "```\n",
    "UnboundedSequence<Real> bootstrap_variance(\n",
    "    UnboundedSequence<RandomVariable> X_n, # samples\n",
    "    UnboundedSequence<Estimator> theta_hat_n,\n",
    "    ProbabilityDistribution P\n",
    "){\n",
    "    assert()\n",
    "    return ... # TODO\n",
    "}\n",
    "```"
   ]
  },
  {
   "cell_type": "markdown",
   "metadata": {},
   "source": [
    "#### Bootstrap Variance Estimator\n",
    "```\n",
    "Real bootstrap_variance_estimator(\n",
    "    Integer B, # number of times to resample\n",
    "    Estimator theta_hat_n\n",
    "){\n",
    "    for i in theta_hat_n:\n",
    "        UnboundedSequence<Estimator> estimators = []\n",
    "        for b in B:\n",
    "            estimate = theta_hat_n\n",
    "            estimators\n",
    "    \n",
    "    theta_bar = \n",
    "    return sqrt(\n",
    "        \n",
    "    )\n",
    "}\n",
    "```"
   ]
  }
 ],
 "metadata": {
  "kernelspec": {
   "display_name": "Python 2",
   "language": "python",
   "name": "python2"
  },
  "language_info": {
   "codemirror_mode": {
    "name": "ipython",
    "version": 2
   },
   "file_extension": ".py",
   "mimetype": "text/x-python",
   "name": "python",
   "nbconvert_exporter": "python",
   "pygments_lexer": "ipython2",
   "version": "2.7.15"
  }
 },
 "nbformat": 4,
 "nbformat_minor": 2
}
