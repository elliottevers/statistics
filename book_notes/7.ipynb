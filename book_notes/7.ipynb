{
 "cells": [
  {
   "cell_type": "markdown",
   "metadata": {},
   "source": [
    "# Point estimation"
   ]
  },
  {
   "cell_type": "markdown",
   "metadata": {},
   "source": [
    "### Method of Moments"
   ]
  },
  {
   "cell_type": "markdown",
   "metadata": {},
   "source": [
    "```\n",
    "RandomVariable moment(\n",
    "    Integer j,\n",
    "    RandomVariable X\n",
    "){\n",
    "    # expected value of x^j\n",
    "    return definite_integral(\n",
    "        (x^j)*derivate(CDF(X))\n",
    "        region=[-\\infty, \\infty]\n",
    "    )\n",
    "}\n",
    "```"
   ]
  },
  {
   "cell_type": "markdown",
   "metadata": {},
   "source": [
    "```\n",
    "Real sample_moment(\n",
    "    Integer j,\n",
    "    Sample X_n\n",
    "){\n",
    "    Integer n = sizeof(X_n)\n",
    "    return quotient(\n",
    "        sum([X_i^j for X_i in X_n])\n",
    "        n\n",
    "    )\n",
    "}\n",
    "```"
   ]
  },
  {
   "cell_type": "markdown",
   "metadata": {},
   "source": [
    "```\n",
    "UnboundedSequence<Estimator> method_of_moments(\n",
    "    \n",
    "){\n",
    "}\n",
    "```"
   ]
  },
  {
   "cell_type": "markdown",
   "metadata": {},
   "source": [
    "### Maximum Likelihood\n",
    "```\n",
    "Real mle(\n",
    "    Real... observations,\n",
    "    ParameterSpace theta\n",
    "){\n",
    "\n",
    "    List<Function<Parameter, Real>> likelihood_functions = [\n",
    "        likelihood(given=observation) # of type Function\n",
    "        for observation\n",
    "        in observation\n",
    "    ]\n",
    "    return argmax(\n",
    "        quantity=(\n",
    "            product(\n",
    "                likelihood_functions\n",
    "            )\n",
    "        )\n",
    "        subset=(\n",
    "            theta\n",
    "        )\n",
    "    )\n",
    "}\n",
    "```"
   ]
  },
  {
   "cell_type": "markdown",
   "metadata": {},
   "source": [
    "### Bayesian Estimators"
   ]
  },
  {
   "cell_type": "markdown",
   "metadata": {},
   "source": [
    "# Evaluation of Estimators"
   ]
  },
  {
   "cell_type": "markdown",
   "metadata": {},
   "source": [
    "Estimator is a function of the random variable we're trying to estimate"
   ]
  },
  {
   "cell_type": "markdown",
   "metadata": {},
   "source": [
    "```\n",
    "typedef UnboundedSequence<\n",
    "    Function<\n",
    "        Natural->PopulationParameter\n",
    "    >\n",
    "> Estimator\n",
    "```"
   ]
  },
  {
   "cell_type": "markdown",
   "metadata": {},
   "source": [
    "**standard error of estimator** is equivalent to **sample variance divided by square root of sample size**"
   ]
  },
  {
   "cell_type": "markdown",
   "metadata": {},
   "source": [
    "### Bias and Variance\n",
    "\n",
    "```\n",
    "Real bias(\n",
    "    PopulationParameter theta,\n",
    "    Estimator theta_hat\n",
    "){\n",
    "    return difference(E(theta_hat), theta)\n",
    "}\n",
    "```"
   ]
  },
  {
   "cell_type": "markdown",
   "metadata": {},
   "source": [
    "```\n",
    "Real standard_error(\n",
    "    Estimator theta_hat\n",
    "){\n",
    "    return std_dev(theta_hat)\n",
    "}\n",
    "```"
   ]
  },
  {
   "cell_type": "markdown",
   "metadata": {},
   "source": [
    "### Mean Squared Error"
   ]
  },
  {
   "cell_type": "markdown",
   "metadata": {},
   "source": [
    "**Estimator**"
   ]
  },
  {
   "cell_type": "markdown",
   "metadata": {},
   "source": [
    "$E_{θ}(\\hat{θ} - θ)$"
   ]
  },
  {
   "cell_type": "markdown",
   "metadata": {},
   "source": [
    "```\n",
    "Real mse(\n",
    "    Estimator theta_hat,\n",
    "    PopulationParameter theta\n",
    "){\n",
    "    return E(square(difference(theta_hat, theta)))\n",
    "}\n",
    "```"
   ]
  },
  {
   "cell_type": "markdown",
   "metadata": {},
   "source": [
    "**Consistent** if tends to 0 as we collect more samples"
   ]
  }
 ],
 "metadata": {
  "kernelspec": {
   "display_name": "Python 2",
   "language": "python",
   "name": "python2"
  },
  "language_info": {
   "codemirror_mode": {
    "name": "ipython",
    "version": 2
   },
   "file_extension": ".py",
   "mimetype": "text/x-python",
   "name": "python",
   "nbconvert_exporter": "python",
   "pygments_lexer": "ipython2",
   "version": "2.7.15"
  }
 },
 "nbformat": 4,
 "nbformat_minor": 2
}
