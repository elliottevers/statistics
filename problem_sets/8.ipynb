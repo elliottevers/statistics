{
 "cells": [
  {
   "cell_type": "markdown",
   "metadata": {},
   "source": [
    "# Q: $$\\text { Let } X _ { 1 } , \\ldots , X _ { n } \\sim \\operatorname { Gamma } ( \\alpha , \\beta ) . \\text { Find the method of moments estimator } \\text { for } \\alpha \\text { and } \\beta$$"
   ]
  },
  {
   "cell_type": "markdown",
   "metadata": {},
   "source": [
    "# A: "
   ]
  },
  {
   "cell_type": "markdown",
   "metadata": {},
   "source": [
    "Note that $\\mathbb { E } ( X ) = \\alpha \\beta$, $\\mathbb { E } \\left( X ^ { 2 } \\right) = \\mathbb { V } ( X ) + ( \\mathbb { E } ( X ) ) ^ { 2 } = \\alpha \\beta ^ { 2 } + ( \\alpha \\beta ) ^ { 2 } = \\alpha \\beta ^ { 2 } + \\alpha^2 \\beta^2$, which gives us the following system of equations,"
   ]
  },
  {
   "cell_type": "markdown",
   "metadata": {},
   "source": [
    "$$\\left.\\begin{aligned} \\widehat { \\alpha } \\widehat { \\beta } & = \\frac { 1 } { n } \\sum _ { i = 1 } ^ { n } X _ { i } \\\\ \\widehat { \\alpha \\beta } ^ { 2 } + \\widehat { \\alpha } ^ { 2 } \\widehat { \\beta } ^ { 2 } & = \\frac { 1 } { n } \\sum _ { i = 1 } ^ { n } X _ { i } ^ { 2 } \\end{aligned} \\right.$$"
   ]
  },
  {
   "cell_type": "markdown",
   "metadata": {},
   "source": [
    "#### TODO: solve above non-linear system with Sage"
   ]
  },
  {
   "cell_type": "markdown",
   "metadata": {},
   "source": [
    "# Q: $$\\left. \\begin{array} { l } { \\text { Let } X _ { 1 } , \\ldots , X _ { n } \\sim \\text { Uniform } ( a , b ) \\text { where a and } b \\text { are unknown parameters } } \\\\ { \\text { and } a < b } \\end{array} \\right.$$. $$\\text { (a) Find the method of moments estimators for a and } b $$ $$ \\text { (b) Find the MLE } \\widehat { a } \\text { and } \\widehat { b }$$ $$ \\text { (c) Let } \\tau = \\int x d F ( x ) . \\text { Find the MLE of } \\tau$$"
   ]
  },
  {
   "cell_type": "markdown",
   "metadata": {},
   "source": [
    "# A:"
   ]
  },
  {
   "cell_type": "markdown",
   "metadata": {},
   "source": [
    "### Method of Moments"
   ]
  },
  {
   "cell_type": "markdown",
   "metadata": {},
   "source": [
    "Since $$\\mathbb { E } ( X ) = \\frac{( a + b )}{2}, \\\\\\mathbb{V}(X) = \\frac { a ^ { 2 } - 2 a b + b ^ { 2 } } { 12 }$$, solving the following system of equations gives us the estimators for the parameters $$\\frac { \\widehat { a } + \\widehat { b } } { 2 } = \\frac { 1 } { n } \\sum _ { i = 1 } ^ { n } X _ { i }, \\\\ \\frac { \\hat{a} ^ { 2 } - 2 \\hat{a} \\hat{b} + \\hat{b} ^ { 2 } } { 12 } = \\frac { 1 } { n } \\sum _ { i = 1 } ^ { n } X _ { i } ^ { 2 }$$."
   ]
  },
  {
   "cell_type": "markdown",
   "metadata": {},
   "source": [
    "#### TODO - solve above system of equations in Sage"
   ]
  },
  {
   "cell_type": "markdown",
   "metadata": {},
   "source": [
    "### Maximum Likelihood Estimation"
   ]
  },
  {
   "cell_type": "markdown",
   "metadata": {},
   "source": [
    "Note that $\\mathcal { L } ( a , b ) = \\left( \\frac { 1 } { b - a } \\right) ^ { n }$, but only when all points in the sample are contained in $[a,b]$.  Thus, we want to make the denominator as small as possible - this happens when $$ \\widehat { a } = \\min \\left\\{ X _ { 1 } , \\ldots , X _ { n } \\right\\} , \\\\ \\widehat { b } = \\max \\left\\{ X _ { 1 } , \\ldots , X _ { n } \\right\\}$$."
   ]
  },
  {
   "cell_type": "markdown",
   "metadata": {},
   "source": [
    "### MLE of density"
   ]
  },
  {
   "cell_type": "markdown",
   "metadata": {},
   "source": [
    "Using the estimators and argument from above, $$ \\widehat { \\tau } = \\frac{( \\widehat { a } + \\widehat { b } )}{ 2}$$."
   ]
  }
 ],
 "metadata": {
  "kernelspec": {
   "display_name": "Python 2",
   "language": "python",
   "name": "python2"
  },
  "language_info": {
   "codemirror_mode": {
    "name": "ipython",
    "version": 2
   },
   "file_extension": ".py",
   "mimetype": "text/x-python",
   "name": "python",
   "nbconvert_exporter": "python",
   "pygments_lexer": "ipython2",
   "version": "2.7.15"
  }
 },
 "nbformat": 4,
 "nbformat_minor": 2
}
