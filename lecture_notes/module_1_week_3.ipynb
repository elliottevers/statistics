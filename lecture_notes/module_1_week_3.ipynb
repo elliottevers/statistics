{
 "cells": [
  {
   "cell_type": "markdown",
   "metadata": {},
   "source": [
    "Frequentist interpretation of probability - The probability of an event is the **proportion** of times an outcomes occurs given an infinite number of samples of the random process\n",
    "\n",
    "The Bayesian Interpretation of probability Is the Subjective “° of belief” Of one of the outcomes in an event of a current\n",
    "\n",
    "The law of large numbers states that as we collect more data The Proportion of The outcome of observing in effect To the Outcome of not observing Converges to the probability of that outcome\n",
    "\n",
    "Gamblers fallacy:\n",
    "The belief that a random process has a memory of prior events that occurred- A random process will not\"Make up for\"A deviation from the expected report of outcomes\n",
    "\n",
    "The probability of the some of this joint defense is equal to the sum of the probabilities of each\n",
    "\n",
    "P(A \\cup B) = P(A) + P(B) - P(A \\cap B)P(A∪B)=P(A)+P(B)−P(A∩B)\n",
    "\n",
    "A probability distribution list all the outcomes of a random process along with The probabilities with which they occur"
   ]
  }
 ],
 "metadata": {
  "kernelspec": {
   "display_name": "Python 3",
   "language": "python",
   "name": "python3"
  },
  "language_info": {
   "codemirror_mode": {
    "name": "ipython",
    "version": 3
   },
   "file_extension": ".py",
   "mimetype": "text/x-python",
   "name": "python",
   "nbconvert_exporter": "python",
   "pygments_lexer": "ipython3",
   "version": "3.7.0"
  }
 },
 "nbformat": 4,
 "nbformat_minor": 2
}
