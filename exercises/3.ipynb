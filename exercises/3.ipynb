{
 "cells": [
  {
   "cell_type": "markdown",
   "metadata": {},
   "source": [
    "# Q: Show that $\\mathbb { P } ( X = x ) = F \\left( x ^ { + } \\right) - F \\left( x ^ { - } \\right)$."
   ]
  },
  {
   "cell_type": "markdown",
   "metadata": {},
   "source": [
    "# A:"
   ]
  },
  {
   "cell_type": "markdown",
   "metadata": {},
   "source": [
    "Note that $\\mathbb { P } ( X = x ) = \\mathbb { P } ( X \\leq x ) - \\mathbb { P } ( X < x )$, but how can we express these two quantities as CDFs?"
   ]
  },
  {
   "cell_type": "markdown",
   "metadata": {},
   "source": [
    "### $\\mathbb { P } ( X \\leq x )$"
   ]
  },
  {
   "cell_type": "markdown",
   "metadata": {},
   "source": [
    "Assume we have a decreasing sequence, $U_n$, that converges to x.  We can make another sequence $L_n = \\{y \\in X | X < U_n\\}$  But this means $$ F(x^{+}) = \\lim _ { n \\rightarrow \\infty } F \\left( x _ { n } \\right) = \\lim _ { n \\rightarrow \\infty } \\mathbb { P } \\left( L _ { n } \\right) = \\mathbb { P } ( X \\leq x )$$"
   ]
  },
  {
   "cell_type": "markdown",
   "metadata": {},
   "source": [
    "### $ \\mathbb { P } ( X < x )$"
   ]
  },
  {
   "cell_type": "markdown",
   "metadata": {},
   "source": [
    "Now, consider the sequence, $x - 1/n$, that converges to x from below:\n",
    "$$ F \\left( x ^ { - } \\right) = \\lim _ { n \\rightarrow \\infty } F ( x - 1 / n ) = \\lim _ { n \\rightarrow \\infty } \\mathbb { P } ( X \\leq x - 1 / n ) = \\mathbb { P } ( X < x )$$"
   ]
  },
  {
   "cell_type": "markdown",
   "metadata": {},
   "source": [
    "# Q: $\\text { Let } X \\text { have probability density function }$ $$ f _ { X } ( x ) = \\left\\{ \\begin{array} { c c } { 1 / 4 } & { 0 < x < 1 } \\\\ { 3 / 8 } & { 3 < x < 5 } \\\\ { 0 } & { \\text { otherwise } } \\end{array} \\right.$$ $$ \\left. \\begin{array} { 1 } { \\text { (a) Find the cumulative distribution function of } X } \\\\ { \\text { (b) Let } Y = 1 / X. \\text { Find the probability density function } f _ { Y } ( y ) \\text { for } Y } \\\\ { \\text { Hint: Consider three cases: } \\frac { 1 } { 5 } \\leq y \\leq \\frac { 1 } { 3 } , \\frac { 1 } { 3 } \\leq y \\leq 1 , \\text { and } y \\geq 1 } \\end{array} \\right. $$"
   ]
  },
  {
   "cell_type": "markdown",
   "metadata": {},
   "source": [
    "# A:"
   ]
  },
  {
   "cell_type": "markdown",
   "metadata": {},
   "source": [
    "**(a)**"
   ]
  },
  {
   "cell_type": "markdown",
   "metadata": {},
   "source": [
    "Integrating horizontal lines is easy\n",
    "$$ F( x ) = \\left\\{ \\begin{array} { c c } {0} & {x \\leq 0} \\\\ { \\int _ { 0 } ^ { x } \\frac { 1 } { 4 } \\mathrm { dx } = \\frac{x}{4}} & { 0 < x < 1 } \\\\ {\\frac{1}{4}} & {1 < x < 2} \\\\ { \\frac{1}{4} + \\int _ { 3 } ^ x \\frac { 3 } { 8 } dx = \\frac{1}{4} + \\frac{3x}{8}} & { 3 < x < 5 } \\\\ { 0 } & { \\text { otherwise } } \\end{array} \\right.$$"
   ]
  },
  {
   "cell_type": "markdown",
   "metadata": {},
   "source": [
    "**(b)**"
   ]
  },
  {
   "cell_type": "markdown",
   "metadata": {},
   "source": [
    "# Q: Let $X$ and $Y$ be discrete random variables.  Show that $X$ and $Y$ are independent if and only if $f _ { X , Y } ( x , y ) = f _ { X } ( x ) f _ { Y } ( y )$ for all $x$ and $y$."
   ]
  },
  {
   "cell_type": "markdown",
   "metadata": {},
   "source": [
    "# A:"
   ]
  },
  {
   "cell_type": "markdown",
   "metadata": {},
   "source": [
    "Assume X and Y are independent.  Then, $$f ( x , y ) = \\mathbb { P } ( X = x , Y = y ) = \\mathbb { P } ( X = x ) \\mathbb { P } ( Y = y ) = f _ { X } ( x ) f _ { Y } ( y )$$."
   ]
  },
  {
   "cell_type": "markdown",
   "metadata": {},
   "source": [
    "Assume $f _ { X , Y } ( x , y ) = f _ { X } ( x ) f _ { Y } ( y ) \\text { for all } x \\text { and } y$. Then, $$\\mathbb { P } ( X \\in A , Y \\in B ) = \\sum _ { x \\in A } \\sum _ { y \\in B } f ( x , y ) = \\sum _ { x \\in A } \\sum _ { y \\in B } f _ { x } ( x ) f _ { Y } ( y ) = \\sum _ { x \\in A } f _ { X } ( x ) \\sum _ { y \\in B } f _ { Y } ( y ) = \\mathbb { P } ( X \\in A ) \\mathbb { P } ( Y \\in B )$$ and $X$ and $Y$ are independent."
   ]
  },
  {
   "cell_type": "markdown",
   "metadata": {},
   "source": [
    "# Q: $$ \\left. \\begin{array} { l } { \\text { Let } X \\text { and } Y \\text { be independent and suppose that each has a Uniform } ( 0,1 ) } \\\\ { \\text { distribution. Let } Z = \\min \\{ X , Y \\} . \\text { Find the density } f _ { Z } ( z ) \\text { for } Z . \\text { Hint: } } \\\\ { \\text { It might be easier to first find } \\mathbb { P } ( Z > z ) } \\end{array} \\right.$$"
   ]
  },
  {
   "cell_type": "markdown",
   "metadata": {},
   "source": [
    "# A:"
   ]
  },
  {
   "cell_type": "markdown",
   "metadata": {},
   "source": [
    "Per the hint, let's first find $P(Z > z)$."
   ]
  },
  {
   "cell_type": "markdown",
   "metadata": {},
   "source": [
    "Let $z \\in (1, 0)$.  Then, $$P(Z > z) = P(X > z, Y > z) = P(X > z)P(Y > z) = (1 - z) (1 - z)$$"
   ]
  },
  {
   "cell_type": "markdown",
   "metadata": {},
   "source": [
    "But this means our CDF of $Z$ is $F_Z = P(Z \\leq z) = 1 - (1 - z)^2$"
   ]
  },
  {
   "cell_type": "markdown",
   "metadata": {},
   "source": [
    "Differentiating $F_Z$, we're left with the PDF $f_Z = 2(1 - z)$."
   ]
  },
  {
   "cell_type": "markdown",
   "metadata": {},
   "source": [
    "# Q: Let $X$ and $Y$ be independent.  Show that $g(X)$ is independent of $h(Y)$ where $g$ and $h$ are functions. "
   ]
  },
  {
   "cell_type": "markdown",
   "metadata": {},
   "source": [
    "# A:"
   ]
  },
  {
   "cell_type": "markdown",
   "metadata": {},
   "source": [
    "The key insight here is that the transformations are in the same space as the assumed-independent random variables $X$ and $Y$."
   ]
  },
  {
   "cell_type": "markdown",
   "metadata": {},
   "source": [
    "Let $A \\subseteq Range(X), B \\subseteq Range(Y)$.  Let $A _ { g } = \\left\\{ x | g(x) \\in A \\right\\}, A _ { h } = \\left\\{ y | h(y) \\in B \\right\\}$."
   ]
  },
  {
   "cell_type": "markdown",
   "metadata": {},
   "source": [
    "Then $$ P ( g ( X ) \\in A , h ( Y ) \\in B ) = P(X \\in A_g, Y \\in B_h) = P(X \\in A_g)P(Y \\in B_h) = P ( g ( X ) \\in A)P ( h ( Y ) \\in B)$$"
   ]
  },
  {
   "cell_type": "markdown",
   "metadata": {},
   "source": [
    "# Q: Suppose that the range of X and Y is a (possibly infinite) rectangle.  If $f(x,y) = g(x)h(y)$ for some function g and h (not necessarily probability density functions) then X and Y are independent."
   ]
  },
  {
   "cell_type": "markdown",
   "metadata": {},
   "source": [
    "# A:"
   ]
  },
  {
   "cell_type": "markdown",
   "metadata": {},
   "source": [
    "Recall that if the joint density equals the product of the marginal densities at every $x, y$, we have independence for a random continuous variable."
   ]
  },
  {
   "cell_type": "markdown",
   "metadata": {},
   "source": [
    "**marginal densities**"
   ]
  },
  {
   "cell_type": "markdown",
   "metadata": {},
   "source": [
    "Let $\\inf{range(X)} = x_1, \\sup{range(X)} = x_2, \\inf{range(Y)} = y_1, \\sup{range(Y)} = y_2$."
   ]
  },
  {
   "cell_type": "markdown",
   "metadata": {},
   "source": [
    "Then, $$f _ { X } ( x ) = \\int _ { x_1 } ^ { x_2 } f ( x , y ) d y = g ( x ) \\int _ { y_1 } ^ { y_2 } h ( y ) d y$$\n",
    "$$f _ { Y } ( y ) = \\int _ { y_1 } ^ { y_2 } f ( x , y ) d x = h ( y ) \\int _ { x_1 } ^ { x_2 } g ( x ) d x$$."
   ]
  },
  {
   "cell_type": "markdown",
   "metadata": {},
   "source": [
    "Now, $$f _ { X } ( x ) f _ { Y } ( y ) = g ( x ) h ( y ) \\int _ { y_1 } ^ { y_2 } h ( y ) d y \\int _ { x_1 } ^ { x_2 } g ( x ) d x$$"
   ]
  },
  {
   "cell_type": "markdown",
   "metadata": {},
   "source": [
    "Fortunately, summing the marginal density of *any* variable gives 1, so $$  \\int _ { y _ { 1 } } ^ { y _ { 2 } } h ( y ) d y \\int _ { x _ { 1 } } ^ { x _ { 2 } } g ( x ) d x = 1 \\implies \\\\ f _ { X } ( x ) f _ { Y } ( y ) = g ( x ) h ( y ) = f ( x , y )$$."
   ]
  },
  {
   "cell_type": "markdown",
   "metadata": {},
   "source": [
    "# Q: Let $X \\sim N ( 0,1 )$ and $Y = e ^ { X }$.  Find the PDF of $Y$."
   ]
  },
  {
   "cell_type": "markdown",
   "metadata": {},
   "source": [
    "# A:"
   ]
  },
  {
   "cell_type": "markdown",
   "metadata": {},
   "source": [
    "Assuming we know the density function of a normal distribution, this is a straight forward calculation $$ f _ { Y } ( y ) = \\frac{d}{dy}\\big( F _ { Y } ( y ) \\big) = \\frac{d}{dy}\\big( \\mathbb { P } \\left( e ^ { X } \\leq y \\right) \\big) = \\frac{d}{dy}\\big( \\mathbb { P } ( X \\leq \\ln ( y ) ) \\big) = \\frac{d}{dy}\\big( \\int _ { - \\infty } ^ { \\ln ( y ) } \\frac { 1 } { \\sqrt { 2 \\pi } } e ^ { - x ^ { 2 } / 2 } d x \\big) = - \\frac { e ^ { - 1 / 2 \\log ^ { 2 } ( y ) } \\log ( y ) } { \\sqrt { 2 \\pi } y }$$"
   ]
  }
 ],
 "metadata": {
  "kernelspec": {
   "display_name": "Python Jupyter",
   "language": "python",
   "name": "jupyter_env"
  }
 },
 "nbformat": 4,
 "nbformat_minor": 2
}
