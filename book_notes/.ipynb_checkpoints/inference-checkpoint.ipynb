{
 "cells": [
  {
   "cell_type": "markdown",
   "metadata": {},
   "source": [
    "### t-distribution"
   ]
  },
  {
   "cell_type": "markdown",
   "metadata": {},
   "source": [
    "Use when:\n",
    " - small data\n",
    " - population variance is not known"
   ]
  },
  {
   "cell_type": "markdown",
   "metadata": {},
   "source": [
    "```\n",
    "typedef List<Observation> Sample\n",
    "```\n",
    "\n",
    "### t - statistic\n",
    "```\n",
    "Real t_statistic(\n",
    "    Real hypothesis, # hypothesized value of parameter\n",
    "    Sample sample,\n",
    "    Estimator estimator\n",
    "){\n",
    "    return quotient(\n",
    "        estimator(sample) - hypothesis,\n",
    "        standard_error(estimator)\n",
    "    )\n",
    "}\n",
    "```"
   ]
  },
  {
   "cell_type": "markdown",
   "metadata": {},
   "source": [
    "**we use a t-statistic when we're conducting a t-test**"
   ]
  },
  {
   "cell_type": "markdown",
   "metadata": {},
   "source": [
    "#### p - value : the threshold for rejecting a null hypothesis"
   ]
  },
  {
   "cell_type": "markdown",
   "metadata": {},
   "source": [
    "```\n",
    "To complete a hypthesis test we need a:\n",
    "    confidence interval.  To get a confidence interval we need a:\n",
    "        p-value (area under curve, a probability).  To get a p-value we need a:\n",
    "            t-statistic or z-statistic.  To get a t, z statistic, we need a:\n",
    "                sample statistic, sample variance (or population variance for z), hypothetical value.\n",
    "```"
   ]
  },
  {
   "cell_type": "markdown",
   "metadata": {},
   "source": [
    "# Paired Groups == Dependent Groups"
   ]
  },
  {
   "cell_type": "markdown",
   "metadata": {},
   "source": [
    "4 outcomes of test\n",
    "```\n",
    "P(guilty verdict | guilty victim) - Power\n",
    "P(innocent verdict | guilty victim) - Type 2\n",
    "P(guilty verdict | innocent victim) - Type 1\n",
    "P(innocent verdict | innocent victim) - ???\n",
    "```"
   ]
  },
  {
   "cell_type": "markdown",
   "metadata": {},
   "source": [
    "### Power\n",
    "```\n",
    "Probability power(\n",
    "    StatisticalTest test\n",
    "){\n",
    "    Error error = outcome(test)\n",
    "    Probability beta = P(typeof(error) == 'Type2') # Type 2 is false negative, i.e., innocent verdict for guilty victim\n",
    "    return 1 - beta # P(guilty verdict | guilty victim)\n",
    "}\n",
    "```"
   ]
  },
  {
   "cell_type": "markdown",
   "metadata": {},
   "source": [
    "#### Calculating sample size requirement given specified margin of error\n",
    "http://sphweb.bumc.bu.edu/otlt/mph-modules/bs/bs704_power/BS704_Power_print.html"
   ]
  },
  {
   "cell_type": "markdown",
   "metadata": {},
   "source": [
    "https://www.youtube.com/watch?v=BJZpx7Mdde4"
   ]
  },
  {
   "cell_type": "markdown",
   "metadata": {},
   "source": [
    "# ANOVA"
   ]
  },
  {
   "cell_type": "markdown",
   "metadata": {},
   "source": [
    "We test, for many groups, if observed differences in statistic is statistically significant"
   ]
  },
  {
   "cell_type": "markdown",
   "metadata": {},
   "source": [
    "necessary conditions:\n",
    " - equal variance\n",
    " - normality for every group\n",
    " - indepenence within and between groups"
   ]
  }
 ],
 "metadata": {
  "kernelspec": {
   "display_name": "Python Jupyter",
   "language": "python",
   "name": "jupyter_env"
  }
 },
 "nbformat": 4,
 "nbformat_minor": 2
}
