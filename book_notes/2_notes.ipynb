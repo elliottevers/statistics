{
 "cells": [
  {
   "cell_type": "markdown",
   "metadata": {},
   "source": [
    "# Expectation of a quantitative property - sum across all possibilities, the relative chance of getting it, times the quantity"
   ]
  },
  {
   "cell_type": "markdown",
   "metadata": {},
   "source": [
    "The complement of an intersection is the intersection of the complements"
   ]
  },
  {
   "cell_type": "markdown",
   "metadata": {},
   "source": [
    "### Gaussian Tail Inequality "
   ]
  },
  {
   "cell_type": "markdown",
   "metadata": {},
   "source": [
    "Given a small ε and a natural number n, provides an upper bound on the probability that a value n-th sampling distribution will be less than ε"
   ]
  },
  {
   "cell_type": "markdown",
   "metadata": {},
   "source": [
    "### Markov's Inequality"
   ]
  },
  {
   "cell_type": "markdown",
   "metadata": {},
   "source": [
    "Given a random variable and a $t \\in \\mathbb{R}$, gives an upper bound  (in the form of an expression of expectation and t) on the probability that the random variable takes on a value greater than t."
   ]
  },
  {
   "cell_type": "markdown",
   "metadata": {},
   "source": [
    "### Chebyshev's Inequality\n",
    "**Given a random variable and a positive $t$, provides quadratically decreasing upper bound (in terms of the variance and t) on the probability on its distance from the mean.**\n",
    "```\n",
    "Proposition<\n",
    "    Probability<\n",
    "        Distance<\n",
    "            ...\n",
    "        >\n",
    "    >,\n",
    "    Expression\n",
    "> chebyshev(\n",
    "    RandomVariable X,\n",
    "    Real t | t > 0\n",
    "){\n",
    "    RandomVariable distance_from_expectation = |X - E(X)|\n",
    "    Set<Real> A = range(distance_from_expectation).where(lamba a: a >= t)\n",
    "    return P(x \\in A) <= quotient(variance(X), t^2)\n",
    "}\n",
    "```"
   ]
  },
  {
   "cell_type": "markdown",
   "metadata": {},
   "source": [
    "**Lemma** Given an interval $\\subseteq Range(X)$, provides an upper bound on its moment generating function."
   ]
  },
  {
   "cell_type": "markdown",
   "metadata": {},
   "source": [
    "**Lemma** Given a small ε, provides an upper bound of the probability of a random variable taking that "
   ]
  },
  {
   "cell_type": "markdown",
   "metadata": {},
   "source": [
    "### Sample Mean\n",
    "Real sample_mean(RandomVariable... Y | y \\in Y is iid){\n",
    "    n = length(Y)\n",
    "    return sum(Y)/n\n",
    "}"
   ]
  },
  {
   "cell_type": "markdown",
   "metadata": {},
   "source": [
    "$\\overline{X_n}$ is the distribution of *all possible* samples of size n from a population"
   ]
  },
  {
   "cell_type": "markdown",
   "metadata": {},
   "source": [
    "### Hoeffding's Inequality\n",
    "\n",
    "an upper bound on the probability that the sum of bounded independent random variables deviates from its expected value by more than a certain amount\n",
    "\n",
    "upper bound decreases exponentially\n",
    "\n",
    "```\n",
    "Proposition<\n",
    "    P(difference(sum([Y], E(Y)))),\n",
    "    Exponential\n",
    "> hoeffding_inequality(\n",
    "    RandomVariable... Y |iid\n",
    ") {\n",
    "    Integer n = length(Y)\n",
    "    ...\n",
    "    return P(difference(sum([Y], E(Y)))) <= expression(e, n)\n",
    "}\n",
    "```"
   ]
  },
  {
   "cell_type": "markdown",
   "metadata": {},
   "source": [
    "#### Hoeffding Corollary"
   ]
  },
  {
   "cell_type": "markdown",
   "metadata": {},
   "source": [
    "```\n",
    "Proposition<\n",
    "    distance(sum(X), E(X)),\n",
    "    SquareRoot\n",
    "> hoeffding_corollary(\n",
    "    RandomVariable... X | iid,\n",
    "    Interval interval | P(X_i \\in interval) == 1\n",
    "){\n",
    "    ...\n",
    "    return Inequality\n",
    "}\n",
    "```"
   ]
  },
  {
   "cell_type": "markdown",
   "metadata": {},
   "source": [
    "### McDiarmid's Inequality"
   ]
  },
  {
   "cell_type": "markdown",
   "metadata": {},
   "source": [
    "Establishing an exponentially decreasing upper bound for **a much larger class of functions**, rather than just the *sum*, like above."
   ]
  },
  {
   "cell_type": "markdown",
   "metadata": {},
   "source": [
    "### Cauchy-Schwartz Inequality"
   ]
  },
  {
   "cell_type": "markdown",
   "metadata": {},
   "source": [
    "Upperbound on the expectation of a product of random variables\n",
    "```\n",
    "Proposition<\n",
    "    E(product(X, Y)),\n",
    "    sqrt(product(E(square(X)), E(square(Y))))\n",
    "> cauchy_schwartz(\n",
    "    RandomVariable X | Var(X) < \\infty,\n",
    "    RandomVariable Y | Var(Y) < \\infty\n",
    "){\n",
    "    ...\n",
    "    return Inequality\n",
    "}\n",
    "```"
   ]
  },
  {
   "cell_type": "markdown",
   "metadata": {},
   "source": [
    "### Jensen's Inequality\n",
    "\n",
    "a bound on the expectation of a transformation of a random variable\n",
    "\n",
    "```\n",
    "Proposition<\n",
    "    E(g(X)),\n",
    "    g(E(X))\n",
    "> jensen_inequality(\n",
    "    Function g,\n",
    "    RandomVariable X\n",
    "){\n",
    "    ...\n",
    "    if (g is concave) {\n",
    "        return Inequality\n",
    "    }\n",
    "    \n",
    "    if (g is convex) {\n",
    "        return Inequality\n",
    "    }\n",
    "}\n",
    "```"
   ]
  },
  {
   "cell_type": "markdown",
   "metadata": {},
   "source": [
    "### Kullback Leibler Distance\n",
    "\n",
    "this distance-like metric is always greater than 0\n",
    "\n",
    "```\n",
    "Function<\n",
    "    Region\n",
    "> kullback_leibler_distance(\n",
    "    PDF p,\n",
    "    PDF q\n",
    "){\n",
    "    return indefinite_integral(\n",
    "        product(p, log(quotient(p, q)))\n",
    "    )\n",
    "}\n",
    "```"
   ]
  },
  {
   "cell_type": "markdown",
   "metadata": {},
   "source": [
    "**theorem**\n",
    "```\n",
    "Proposition<\n",
    "    Inequality<Expectation, Expression>\n",
    "> theorem (\n",
    "    RandomVariable... X,\n",
    "    Real σ | σ > 0 AND ...\n",
    "){\n",
    "    n = length(X)\n",
    "    \n",
    "    ...\n",
    "    \n",
    "    return\n",
    "        expectation(max(X)) <= \n",
    "            product(σ,sqrt(product(2,log(n))))\n",
    "}\n",
    "```"
   ]
  }
 ],
 "metadata": {
  "kernelspec": {
   "display_name": "Python 3",
   "language": "python",
   "name": "python3"
  },
  "language_info": {
   "codemirror_mode": {
    "name": "ipython",
    "version": 3
   },
   "file_extension": ".py",
   "mimetype": "text/x-python",
   "name": "python",
   "nbconvert_exporter": "python",
   "pygments_lexer": "ipython3",
   "version": "3.7.0"
  }
 },
 "nbformat": 4,
 "nbformat_minor": 2
}
