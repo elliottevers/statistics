{
 "cells": [
  {
   "cell_type": "markdown",
   "metadata": {},
   "source": [
    "# R^2"
   ]
  },
  {
   "cell_type": "markdown",
   "metadata": {},
   "source": [
    "```\n",
    "Real r_squared(\n",
    "    Sample sample,\n",
    "    LinearModel model\n",
    "){\n",
    "    Real sample_mean = sample_mean(sample)\n",
    "    \n",
    "    # total sum of squares\n",
    "    Real ssto = [\n",
    "        (sample_mean - observed.getExplanatoryMeasurement())^2\n",
    "        for observed\n",
    "        in sample\n",
    "    ]\n",
    "    \n",
    "    # residual sum of squares\n",
    "    Real ssr = [\n",
    "        (response - model(explanatory))^2\n",
    "        for explanatory, response\n",
    "        in sample\n",
    "    ]\n",
    "    \n",
    "    return 1 - (ssr/ssto)\n",
    "}\n",
    "```"
   ]
  },
  {
   "cell_type": "markdown",
   "metadata": {},
   "source": [
    "# Adjusted R^2"
   ]
  },
  {
   "cell_type": "markdown",
   "metadata": {},
   "source": [
    "Unbiased version of the R^2 estimator"
   ]
  },
  {
   "cell_type": "markdown",
   "metadata": {},
   "source": [
    "http://thestatsgeek.com/2013/10/28/r-squared-and-adjusted-r-squared/"
   ]
  }
 ],
 "metadata": {
  "kernelspec": {
   "display_name": "Python 2",
   "language": "python",
   "name": "python2"
  },
  "language_info": {
   "codemirror_mode": {
    "name": "ipython",
    "version": 2
   },
   "file_extension": ".py",
   "mimetype": "text/x-python",
   "name": "python",
   "nbconvert_exporter": "python",
   "pygments_lexer": "ipython2",
   "version": "2.7.15"
  }
 },
 "nbformat": 4,
 "nbformat_minor": 2
}
