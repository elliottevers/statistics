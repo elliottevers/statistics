{
 "cells": [
  {
   "cell_type": "markdown",
   "metadata": {},
   "source": [
    "# A fair coin is tossed until heads is obtained.  What is the expected number of tosses required?"
   ]
  },
  {
   "cell_type": "markdown",
   "metadata": {},
   "source": [
    "Let $P(heads) = p$.  Then the expectation is $$\\sum _ { i = 1 } ^ { \\infty } i p ( 1 - p ) ^ { i - 1 } = \\\\ p \\left( \\sum _ { i = 1 } ^ { \\infty } ( 1 - p ) ^ { i - 1 } + \\sum _ { i = 2 } ^ { \\infty } ( 1 - p ) ^ { i - 1 } + \\ldots \\right) = \\\\ p \\left[ \\frac { 1 } { p } + \\frac { 1 - p } { p } + \\ldots \\right] = \\\\ 1 + ( 1 - p ) + \\ldots = \\\\ \\frac{1}{p}$$"
   ]
  },
  {
   "cell_type": "markdown",
   "metadata": {},
   "source": [
    "Since this is a fair coin, $p = .5$, and the expected number of flips is 2."
   ]
  }
 ],
 "metadata": {
  "kernelspec": {
   "display_name": "Python Jupyter",
   "language": "python",
   "name": "jupyter_env"
  }
 },
 "nbformat": 4,
 "nbformat_minor": 2
}
