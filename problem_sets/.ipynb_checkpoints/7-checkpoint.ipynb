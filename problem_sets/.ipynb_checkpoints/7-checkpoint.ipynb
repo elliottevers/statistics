{
 "cells": [
  {
   "cell_type": "markdown",
   "metadata": {},
   "source": [
    "# Q: $$\\left. \\begin{array} { l } { \\text { Let } X _ { 1 } , \\ldots , X _ { n } \\text { be distinct observations (no ties). Let } X _ { 1 } ^ { * } , \\ldots , X _ { n } ^ { * } \\text { denote } } \\\\ { \\text { a bootstrap sample and let } \\overline { X } _ { n } ^ { * } = n ^ { - 1 } \\sum _ { i = 1 } ^ { n } X _ { i } ^ { * } . \\text { Find: } \\mathbb { E } \\left( \\overline { X } _ { n } ^ { * } | X _ { 1 } , \\ldots , X _ { n } \\right) } \\\\ { \\mathbb { V } \\left( \\overline { X } _ { n } ^ { * } | X _ { 1 } , \\ldots , X _ { n } \\right) , \\mathbb { E } \\left( \\overline { X } _ { n } ^ { * } \\right) \\text { and } \\mathbb { V } \\left( \\overline { X } _ { n } ^ { * } \\right) } \\end{array} \\right.$$"
   ]
  },
  {
   "cell_type": "markdown",
   "metadata": {},
   "source": [
    "# A: "
   ]
  },
  {
   "cell_type": "markdown",
   "metadata": {},
   "source": [
    "#### Conditional Expectation, Variance"
   ]
  },
  {
   "cell_type": "markdown",
   "metadata": {},
   "source": [
    "Note that $$\\mathbb { E } \\left( \\overline { X } ^ { * } | X _ { 1 } , \\ldots , X _ { n } \\right) = \\mathbb {E}(\\frac{1}{n} \\sum _ { i = 1 } ^ { n } X _ { i } ^ { * }) = \\mathbb {E} (\\sum _ { x } x \\mathbb { P } \\left( X ^ { * } = x \\right))$$.  Since the empirical CDF puts mass $\\frac{1}{n}$ at each observation, $$ \\sum _ { x } x \\mathbb { P } \\left( X ^ { * } = x \\right) = \\frac { 1 } { n } \\sum _ { i = 1 } ^ { n } X _ { i } = \\overline { X } \\implies \\mathbb { E } \\left( \\sum _ { x } x \\mathbb { P } \\left( X ^ { * } = x \\right) \\right) = \\mathbb{E}(\\overline{X}) = \\overline{X}$$."
   ]
  },
  {
   "cell_type": "markdown",
   "metadata": {},
   "source": [
    "As for variance, $$\\mathbb { V } \\left( \\overline { X } ^ { * } | X _ { 1 } , \\ldots , X _ { n } \\right) = \\mathbb{V} (\\frac { 1 } { n } \\sum _ { i = 1 } ^ { n } X _ { i } ^ { * }) = \\frac { 1 } { n^2 }\\mathbb{V}(\\sum _ { i = 1 } ^ { n } X _ { i } ^ { * }) = \\frac { 1 } { n ^ { 2 } } \\sum _ { i = 1 } ^ { n } \\left( X _ { i } - \\overline { X } \\right) ^ { 2 }$$."
   ]
  },
  {
   "cell_type": "markdown",
   "metadata": {},
   "source": [
    "In other words, the sample mean of the bootstrap sample is the sample as the non-simulated sample mean, and the sample variance of the bootstrap sample is the same as the non-simulated sample variance."
   ]
  },
  {
   "cell_type": "markdown",
   "metadata": {},
   "source": [
    "#### Unconditional Expectation, Variance"
   ]
  },
  {
   "cell_type": "markdown",
   "metadata": {},
   "source": [
    "For expectation, $$\\mathbb { E } \\left( \\overline { X } ^ { * } \\right) = \\mathbb { E } ( \\overline { X } ) = \\mu$$."
   ]
  },
  {
   "cell_type": "markdown",
   "metadata": {},
   "source": [
    "By the law of total variance, $$\\mathbb { V } \\left( \\overline { X } ^ { * } \\right) = \\\\ \\mathbb{V}(\\mathbb { E } \\left( \\overline { X } ^ { * } | X _ { 1 } , \\ldots , X _ { n } \\right)) + \\mathbb {E}(\\mathbb { V } \\left( \\overline { X } ^ { * } | X _ { 1 } , \\ldots , X _ { n } \\right)) = \\\\ \\mathbb { V } ( \\overline { X } ) + \\mathbb { E } \\left( \\frac { 1 } { n ^ { 2 } } \\sum _ { i = 1 } ^ { n } \\left( X _ { i } - \\overline { X } \\right) ^ { 2 } \\right) = \\\\ \\frac { \\sigma ^ { 2 } } { n } + \\frac { 1 } { n ^ { 2 } } \\sum _ { i = 1 } ^ { n } \\mathbb { E } \\left( X _ { i } - \\overline { X } \\right) ^ { 2 } ) = \\\\ \\frac { \\sigma ^ { 2 } } { n } + \\frac { n - 1 } { n ^ { 2 } } \\mathbb { E } \\left( \\frac { \\sum _ { i = 1 } ^ { n } \\left( X _ { i } - \\overline { X } \\right) ^ { 2 } } { n - 1 } \\right) = \\\\ \\frac { \\sigma ^ { 2 } } { n } + \\frac { n - 1 } { n ^ { 2 } } \\sigma ^ { 2 }$$."
   ]
  },
  {
   "cell_type": "markdown",
   "metadata": {},
   "source": [
    "This means we can expect the processing of bootstrapping, in general, to capture the population mean and have a small variance."
   ]
  },
  {
   "cell_type": "markdown",
   "metadata": {},
   "source": [
    "# Q: $$\\text { Let } X _ { 1 } , \\ldots , X _ { n } \\sim \\text { Uniform } ( 0 , \\theta ) . \\text { Let } \\widehat { \\theta } = X _ { \\max } = \\max \\left\\{ X _ { 1 } , \\ldots , X _ { n } \\right\\}$$ $$ \\left. \\begin{array} { l } { \\text { This is a case where the bootstrap does very poorly. In fact, we can } } \\\\ { \\text { prove that this is the case. Show that } P ( \\widehat { \\theta } = \\widehat { \\theta } ) = 0 \\text { and yet } P ( \\widehat { \\theta } ^ { * } = } \\\\ { \\widehat { \\theta } ) \\approx .632 . \\text { Hint: show that, } P \\left( \\widehat { \\theta } ^ { * } = \\hat { \\theta } \\right) = 1 - ( 1 - ( 1 / n ) ) ^ { n } \\text { then take the } } \\\\ { \\text { limit as } n \\text { gets large. } } \\end{array} \\right. $$\n"
   ]
  },
  {
   "cell_type": "markdown",
   "metadata": {},
   "source": [
    "# A: TODO"
   ]
  }
 ],
 "metadata": {
  "kernelspec": {
   "display_name": "Python 2",
   "language": "python",
   "name": "python2"
  },
  "language_info": {
   "codemirror_mode": {
    "name": "ipython",
    "version": 2
   },
   "file_extension": ".py",
   "mimetype": "text/x-python",
   "name": "python",
   "nbconvert_exporter": "python",
   "pygments_lexer": "ipython2",
   "version": "2.7.15"
  }
 },
 "nbformat": 4,
 "nbformat_minor": 2
}
