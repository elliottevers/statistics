{
 "cells": [
  {
   "cell_type": "markdown",
   "metadata": {},
   "source": [
    "# R^2"
   ]
  },
  {
   "cell_type": "markdown",
   "metadata": {},
   "source": [
    "```\n",
    "Real r_squared(\n",
    "    Sample sample,\n",
    "    LinearModel model\n",
    "){\n",
    "    Real sample_mean = sample_mean(sample)\n",
    "    \n",
    "    # total sum of squares\n",
    "    Real ssto = [\n",
    "        (sample_mean - observed.getExplanatoryMeasurement())^2\n",
    "        for observed\n",
    "        in sample\n",
    "    ]\n",
    "    \n",
    "    # residual sum of squares\n",
    "    Real ssr = [\n",
    "        (response - model(explanatory))^2\n",
    "        for explanatory, response\n",
    "        in sample\n",
    "    ]\n",
    "    \n",
    "    return 1 - (ssr/ssto)\n",
    "}\n",
    "```"
   ]
  },
  {
   "cell_type": "markdown",
   "metadata": {},
   "source": [
    "# Adjusted R^2"
   ]
  },
  {
   "cell_type": "markdown",
   "metadata": {},
   "source": [
    "Unbiased version of the R^2 estimator"
   ]
  },
  {
   "cell_type": "markdown",
   "metadata": {},
   "source": [
    "http://thestatsgeek.com/2013/10/28/r-squared-and-adjusted-r-squared/"
   ]
  },
  {
   "cell_type": "markdown",
   "metadata": {},
   "source": [
    "# Conditions for linear regression\n",
    "- apparent linear relationship between variables\n",
    "- nearly normal residuals\n",
    "- constant variability (homoskedastic, not heteroskedastic)"
   ]
  },
  {
   "cell_type": "markdown",
   "metadata": {},
   "source": [
    "**influential point**\n",
    "- outliers that highly affects the value of the slope of the regression line\n",
    "\n",
    "An outlier has high **leverage** if it's close to the regression line"
   ]
  },
  {
   "cell_type": "markdown",
   "metadata": {},
   "source": [
    "Collinear variables can make an estimator **biased**"
   ]
  },
  {
   "cell_type": "markdown",
   "metadata": {},
   "source": [
    "# F-statistic"
   ]
  },
  {
   "cell_type": "markdown",
   "metadata": {},
   "source": [
    "ratio of explained variability to unexplained variability"
   ]
  },
  {
   "cell_type": "markdown",
   "metadata": {},
   "source": [
    "ratio of two variances (SSR/SSE), the variance explained by the parameters in the model (sum of squares of regression, SSR) and the residual or unexplained variance (sum of squares of error, SSE)"
   ]
  },
  {
   "cell_type": "markdown",
   "metadata": {},
   "source": [
    "# Model Selection Criterion"
   ]
  },
  {
   "cell_type": "markdown",
   "metadata": {},
   "source": [
    "$p$ value, adjusted $R^2$, AIC, BIC, Bayes factor, Mallow's $C_p$"
   ]
  },
  {
   "cell_type": "markdown",
   "metadata": {},
   "source": [
    "backward, forward elimination"
   ]
  }
 ],
 "metadata": {
  "kernelspec": {
   "display_name": "Python 2",
   "language": "python",
   "name": "python2"
  },
  "language_info": {
   "codemirror_mode": {
    "name": "ipython",
    "version": 2
   },
   "file_extension": ".py",
   "mimetype": "text/x-python",
   "name": "python",
   "nbconvert_exporter": "python",
   "pygments_lexer": "ipython2",
   "version": "2.7.15"
  }
 },
 "nbformat": 4,
 "nbformat_minor": 2
}
