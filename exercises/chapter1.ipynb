{
 "cells": [
  {
   "cell_type": "markdown",
   "metadata": {},
   "source": [
    "# Fill in the details of the proof"
   ]
  },
  {
   "cell_type": "markdown",
   "metadata": {},
   "source": [
    "If $A _ { n } \\rightarrow A$ then $P \\left( A _ { n } \\right) \\rightarrow P ( A )$ as $n \\rightarrow \\infty$."
   ]
  },
  {
   "cell_type": "markdown",
   "metadata": {},
   "source": [
    "# in chapter 1."
   ]
  },
  {
   "cell_type": "markdown",
   "metadata": {},
   "source": [
    "# Q: Prove $B_1, B_2, ...$ are disjoint."
   ]
  },
  {
   "cell_type": "markdown",
   "metadata": {},
   "source": [
    "# A: "
   ]
  },
  {
   "cell_type": "markdown",
   "metadata": {},
   "source": [
    "Recall that $$B _ { i } = \\dot { A } _ { 1 },  B _ { 2 } = \\{ \\omega \\in \\Omega | \\omega \\in A _ { 2 } , \\omega \\notin A _ { 1 } \\}, B_{2} = ...$$"
   ]
  },
  {
   "cell_type": "markdown",
   "metadata": {},
   "source": [
    "Let $$ i < j $$ where $i, j \\in \\mathbb{N}$."
   ]
  },
  {
   "cell_type": "markdown",
   "metadata": {},
   "source": [
    "Then $i \\leq j-1 \\leq j$."
   ]
  },
  {
   "cell_type": "markdown",
   "metadata": {},
   "source": [
    "But $$X \\in B _ { j } \\Rightarrow x \\notin B _ { j - 1 } \\supset B _ { i }$$"
   ]
  },
  {
   "cell_type": "markdown",
   "metadata": {},
   "source": [
    "and the two arbitrary $B_{j}, B_{i}$ are disjoint."
   ]
  },
  {
   "cell_type": "markdown",
   "metadata": {},
   "source": [
    "# Prove Q: $\\bigcup _ { i = 1 } ^ { n } A _ { i } = \\bigcup _ { i = 1 } ^ { n } B _ { i }$"
   ]
  },
  {
   "cell_type": "markdown",
   "metadata": {},
   "source": [
    "# A:"
   ]
  },
  {
   "cell_type": "markdown",
   "metadata": {},
   "source": [
    "Let $x \\in U _ { i = 1} ^ {n}A _ { i }$.  Then, $x \\in A _ { m } \\text{ for } m \\leq n$ and $x \\notin A _ { m - 1 }$.  But, by definition of the set $B_{i}$, $x \\in B_{m} \\implies x \\in U _{i=1} ^ { m } B _ {m} \\subset U ^ { n } _ { i=1 } B _ {i}$."
   ]
  },
  {
   "cell_type": "markdown",
   "metadata": {},
   "source": [
    "Let $x \\in \\bigcup _ { i = 1 } ^ { n } B _ { i }$.  Then, by definition of the set $B_{i}$, $$x \\in A _ { n } , x \\notin \\bigcup _ { i = 1 } ^ { n - 1 } A _ { n }$$.  But $$x \\in A_{n} \\implies X \\in \\left( A _ { 1 } \\cup A _ { 2 } \\cup \\ldots \\cup A _ { n } \\right) \\implies x \\in \\bigcup _ { i = 1 } ^ { n } A _ { i }$$"
   ]
  },
  {
   "cell_type": "markdown",
   "metadata": {},
   "source": [
    "# Q: Prove $\\bigcup _ { i = 1 } ^ { \\infty } B _ { i } = \\bigcup _ { i = 1 } ^ { \\infty } A _ { i }$"
   ]
  },
  {
   "cell_type": "markdown",
   "metadata": {},
   "source": [
    "# A:"
   ]
  },
  {
   "cell_type": "markdown",
   "metadata": {},
   "source": [
    "By the above argument, each of the terms are equal, so the infinite unions are equal as well."
   ]
  },
  {
   "cell_type": "markdown",
   "metadata": {},
   "source": [
    "# Properties of Probabilities"
   ]
  },
  {
   "cell_type": "markdown",
   "metadata": {},
   "source": [
    "# Q: Prove $P ( \\emptyset ) = 0$."
   ]
  },
  {
   "cell_type": "markdown",
   "metadata": {},
   "source": [
    "# A:"
   ]
  },
  {
   "cell_type": "markdown",
   "metadata": {},
   "source": [
    "By axiom, $P ( \\Omega ) = 1$.  Note that $\\Omega \\cup \\emptyset = \\Omega$, so by another axiom ($P ( A \\cup B ) = P ( A ) + P ( B )$), we have $$ 1 = P ( \\Omega \\cup \\emptyset ) = P ( \\Omega ) + P ( \\emptyset ) = 1 + P ( \\phi ) \\Rightarrow P ( \\phi ) = 0$$"
   ]
  },
  {
   "cell_type": "markdown",
   "metadata": {},
   "source": [
    "# Q: Prove $A \\subset B \\Rightarrow P ( A ) \\leq P ( B )$."
   ]
  },
  {
   "cell_type": "markdown",
   "metadata": {},
   "source": [
    "# A:"
   ]
  },
  {
   "cell_type": "markdown",
   "metadata": {},
   "source": [
    "Let $C = \\{ | c \\in B | c \\notin A , c \\in B \\}$.  Then, $A \\cup C = B, A \\cap L = \\emptyset$, so by axiom of the probabilities of disjoint sets, $$P ( B ) = P ( A \\cup C ) = P ( A ) + P ( C ) \\implies P ( A ) - P ( B ) = - P ( C ) \\leq 0 \\implies P ( A ) - P ( B ) \\leq 0 \\implies P ( A ) \\leq P ( B )$$.  "
   ]
  },
  {
   "cell_type": "markdown",
   "metadata": {},
   "source": [
    "# Q: Prove $0 \\leq P ( A ) \\leq 1$."
   ]
  },
  {
   "cell_type": "markdown",
   "metadata": {},
   "source": [
    "# A:"
   ]
  },
  {
   "cell_type": "markdown",
   "metadata": {},
   "source": [
    "Let $B = \\{ b \\in \\Omega | b \\notin A \\}$.  Then, $A \\cup B = \\Omega$, and because $A, B$ are disjoint, $$ P ( A ) + P ( B ) = P ( \\Omega ) = 1 \\implies \\\\ P ( A ) - 1 = - P ( B ) \\leq 0 \\implies \\\\ P ( A ) \\leq 1 $$.  "
   ]
  },
  {
   "cell_type": "markdown",
   "metadata": {},
   "source": [
    "By axiom, $P ( A ) \\geq 0$."
   ]
  },
  {
   "cell_type": "markdown",
   "metadata": {},
   "source": [
    "# Q: Prove $P\\left(A ^ { c } \\right) = 1 - P ( A )$."
   ]
  },
  {
   "cell_type": "markdown",
   "metadata": {},
   "source": [
    "# A: "
   ]
  },
  {
   "cell_type": "markdown",
   "metadata": {},
   "source": [
    "Note that $A \\cup A ^ { c } = \\Omega$.  Since complements are disjoint, $$ P ( A ) + P \\left( A ^ { c } \\right) = P ( \\Omega ) = 1 \\implies \\\\ P \\left( A ^ { c } \\right) = 1 - P ( A )$$."
   ]
  },
  {
   "cell_type": "markdown",
   "metadata": {},
   "source": [
    "# Q: Prove $A \\cap B = \\emptyset \\Rightarrow P ( A \\cup B ) = P ( A ) + P ( B )$."
   ]
  },
  {
   "cell_type": "markdown",
   "metadata": {},
   "source": [
    "# A:"
   ]
  },
  {
   "cell_type": "markdown",
   "metadata": {},
   "source": [
    "This follows directly from the axiom of probabilities of disjoint sets by substitution."
   ]
  }
 ],
 "metadata": {
  "kernelspec": {
   "display_name": "Python Jupyter",
   "language": "python",
   "name": "jupyter_env"
  }
 },
 "nbformat": 4,
 "nbformat_minor": 2
}
