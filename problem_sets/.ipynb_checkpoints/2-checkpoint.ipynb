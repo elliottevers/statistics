{
 "cells": [
  {
   "cell_type": "markdown",
   "metadata": {},
   "source": [
    "# Q: A fair coin is tossed until heads is obtained.  What is the expected number of tosses required?"
   ]
  },
  {
   "cell_type": "markdown",
   "metadata": {},
   "source": [
    "# A:"
   ]
  },
  {
   "cell_type": "markdown",
   "metadata": {},
   "source": [
    "Let $P(heads) = p$.  Then the expectation is $$\\sum _ { i = 1 } ^ { \\infty } i p ( 1 - p ) ^ { i - 1 } = \\\\ p \\left( \\sum _ { i = 1 } ^ { \\infty } ( 1 - p ) ^ { i - 1 } + \\sum _ { i = 2 } ^ { \\infty } ( 1 - p ) ^ { i - 1 } + \\ldots \\right) = \\\\ p \\left[ \\frac { 1 } { p } + \\frac { 1 - p } { p } + \\ldots \\right] = \\\\ 1 + ( 1 - p ) + \\ldots = \\\\ \\frac{1}{p}$$"
   ]
  },
  {
   "cell_type": "markdown",
   "metadata": {},
   "source": [
    "Since this is a fair coin, $p = .5$, and the expected number of flips is 2."
   ]
  },
  {
   "cell_type": "markdown",
   "metadata": {},
   "source": [
    "# Q: Let Ω = {1, 2, ......}.  Prove that there does not exist a uniform distribution on Ω."
   ]
  },
  {
   "cell_type": "markdown",
   "metadata": {},
   "source": [
    "# Α:"
   ]
  },
  {
   "cell_type": "markdown",
   "metadata": {},
   "source": [
    "For an outcome $k$, assume $P(k)$ is 0.  Then $\\sum _ {Ω} Ω_{i} = 0 < 1$."
   ]
  },
  {
   "cell_type": "markdown",
   "metadata": {},
   "source": [
    "Assume $P(k) = p > 0$.  Let $n = \\lceil \\frac { 1 } { p } \\rceil$.  Then, $$\\sum _ { i = 1 } ^ { n } P ( i \\in \\Omega ) > 1 \\Rightarrow \\\\ \\sum _ { \\Omega } \\Omega _ { i } > 1 $$.  "
   ]
  },
  {
   "cell_type": "markdown",
   "metadata": {},
   "source": [
    "Either way, the axioms of a probability measure are broken."
   ]
  },
  {
   "cell_type": "markdown",
   "metadata": {},
   "source": [
    "# Q: Suppose that $\\mathbb { P } \\left( A _ { i } \\right) = 1$ for each $i$.  Prove that $$ \\mathbb { P } \\left( \\bigcap _ { i = 1 } ^ { \\infty } A _ { i } \\right) = 1$$."
   ]
  },
  {
   "cell_type": "markdown",
   "metadata": {},
   "source": [
    "# A:"
   ]
  },
  {
   "cell_type": "markdown",
   "metadata": {},
   "source": [
    "For any $P(A_{i})$, $ P \\left( A _ { i } ^ { c } \\right) = 1 - P \\left( A _ { i } \\right) = 0$.  Thus, $$ P \\left( \\cup _ { i } A _ { i } ^ { c } \\right) \\leq \\sum _ { i } P \\left( A _ { i } ^ { c } \\right) = 0$$"
   ]
  },
  {
   "cell_type": "markdown",
   "metadata": {},
   "source": [
    "But $$ 1 = P(Ω) \\geq P \\left( \\bigcap _i A _ { i } \\right) = 1 - P \\left( \\bigcap _ { i } A _ { i } \\right) ^ { c } = 1 - P \\left( \\bigcup _ { i } A _ { i } ^ { c } \\right) = 1 - 0 = 1 \\implies \\\\ 1 = P \\left( \\cap _ { i } A _ { i } \\right)$$."
   ]
  },
  {
   "cell_type": "markdown",
   "metadata": {},
   "source": [
    "# Q: Prove the correct answer for the Monty Hall problem."
   ]
  },
  {
   "cell_type": "markdown",
   "metadata": {},
   "source": [
    "# A:"
   ]
  },
  {
   "cell_type": "markdown",
   "metadata": {},
   "source": [
    "Intuitively, the likelihood of Monty's choice will change based on if you guess correctly.  We have a quantitative framework (Baye's Rule) to analyze probability using likelihoods, so let's do that."
   ]
  },
  {
   "cell_type": "markdown",
   "metadata": {},
   "source": [
    "Without loss of generality (since there is symmetry in the labeling of doors), assume:\n",
    "    $$1) you choose door #1$$\n",
    "    $$2) Monty chooses door #3$$"
   ]
  },
  {
   "cell_type": "markdown",
   "metadata": {},
   "source": [
    "We'll want to compare `P(prize behind door #1 | Monty chooses door #3)` to `P(prize behind door #2 | Monty chooses door #3)`."
   ]
  },
  {
   "cell_type": "markdown",
   "metadata": {},
   "source": [
    "### likelihood of P(prize behind door #1 | Monty chooses door #3)"
   ]
  },
  {
   "cell_type": "markdown",
   "metadata": {},
   "source": [
    "P(Monty chooses door #3 | prize behind door #1) = **1/2**, since he could pick either of the prizeless doors that aren't your winning door"
   ]
  },
  {
   "cell_type": "markdown",
   "metadata": {},
   "source": [
    "### likelihood of P(prize behind door #2 | Monty chooses door #3)"
   ]
  },
  {
   "cell_type": "markdown",
   "metadata": {},
   "source": [
    "P(Monty chooses door #3 | prize behind door #2) = $\\textbf{1}$, since he has no other option, **he can't open your door because it's already open**."
   ]
  },
  {
   "cell_type": "markdown",
   "metadata": {},
   "source": [
    "### Using Baye's Rule to evaluate `P(prize behind door #1 | Monty chooses door #3)` and `P(prize behind door #2 | Monty chooses door #3)`, we'll notice the latter is *twice* as high, and thus we should switch"
   ]
  }
 ],
 "metadata": {
  "kernelspec": {
   "display_name": "Python Jupyter",
   "language": "python",
   "name": "jupyter_env"
  }
 },
 "nbformat": 4,
 "nbformat_minor": 2
}
