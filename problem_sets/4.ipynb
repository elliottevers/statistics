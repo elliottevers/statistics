{
 "cells": [
  {
   "cell_type": "markdown",
   "metadata": {},
   "source": [
    "# Q: $$\\left. \\begin{array} { l } { \\text { Suppose we play a game where we start with c dollars. On each play of } } \\\\ { \\text { the game you either double or halve your money, with equal probability. } } \\\\ { \\text { What is your expected fortune after } n \\text { trials? } } \\end{array} \\right.$$"
   ]
  },
  {
   "cell_type": "markdown",
   "metadata": {},
   "source": [
    "# A:"
   ]
  },
  {
   "cell_type": "markdown",
   "metadata": {},
   "source": [
    "The expected value of our \"current fortune multiplier\" is $\\frac{1}{2}\\frac{1}{2} + 2\\frac{1}{2}$.  Muliplying this multiplier for n trials we get $(\\frac{5}{4})^{n}$.  Assuming we start with $c$ dollars, the expectation of eventual fortune is $$c \\left( \\frac { 5 } { 4 } \\right) ^ { n }$$."
   ]
  }
 ],
 "metadata": {
  "kernelspec": {
   "display_name": "Python 3",
   "language": "python",
   "name": "python3"
  },
  "language_info": {
   "codemirror_mode": {
    "name": "ipython",
    "version": 3
   },
   "file_extension": ".py",
   "mimetype": "text/x-python",
   "name": "python",
   "nbconvert_exporter": "python",
   "pygments_lexer": "ipython3",
   "version": "3.7.0"
  }
 },
 "nbformat": 4,
 "nbformat_minor": 2
}
