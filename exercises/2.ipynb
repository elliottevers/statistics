{
 "cells": [
  {
   "cell_type": "markdown",
   "metadata": {},
   "source": [
    "# Q: A fair coin is tossed until heads is obtained.  What is the expected number of tosses required?"
   ]
  },
  {
   "cell_type": "markdown",
   "metadata": {},
   "source": [
    "# A:"
   ]
  },
  {
   "cell_type": "markdown",
   "metadata": {},
   "source": [
    "Let $P(heads) = p$.  Then the expectation is $$\\sum _ { i = 1 } ^ { \\infty } i p ( 1 - p ) ^ { i - 1 } = \\\\ p \\left( \\sum _ { i = 1 } ^ { \\infty } ( 1 - p ) ^ { i - 1 } + \\sum _ { i = 2 } ^ { \\infty } ( 1 - p ) ^ { i - 1 } + \\ldots \\right) = \\\\ p \\left[ \\frac { 1 } { p } + \\frac { 1 - p } { p } + \\ldots \\right] = \\\\ 1 + ( 1 - p ) + \\ldots = \\\\ \\frac{1}{p}$$"
   ]
  },
  {
   "cell_type": "markdown",
   "metadata": {},
   "source": [
    "Since this is a fair coin, $p = .5$, and the expected number of flips is 2."
   ]
  },
  {
   "cell_type": "markdown",
   "metadata": {},
   "source": [
    "# Q: Let Ω = {1, 2, ......}.  Prove that there does not exist a uniform distribution on Ω."
   ]
  },
  {
   "cell_type": "markdown",
   "metadata": {},
   "source": [
    "# Α:"
   ]
  },
  {
   "cell_type": "markdown",
   "metadata": {},
   "source": [
    "For an outcome $k$, assume $P(k)$ is 0.  Then $\\sum _ {Ω} Ω_{i} = 0 < 1$."
   ]
  },
  {
   "cell_type": "markdown",
   "metadata": {},
   "source": [
    "Assume $P(k) = p > 0$.  Let $n = \\lceil \\frac { 1 } { p } \\rceil$.  Then, $$\\sum _ { i = 1 } ^ { n } P ( i \\in \\Omega ) > 1 \\Rightarrow \\\\ \\sum _ { \\Omega } \\Omega _ { i } > 1 $$.  "
   ]
  },
  {
   "cell_type": "markdown",
   "metadata": {},
   "source": [
    "Either way, the axioms of a probability measure are broken."
   ]
  }
 ],
 "metadata": {
  "kernelspec": {
   "display_name": "Python Jupyter",
   "language": "python",
   "name": "jupyter_env"
  }
 },
 "nbformat": 4,
 "nbformat_minor": 2
}
