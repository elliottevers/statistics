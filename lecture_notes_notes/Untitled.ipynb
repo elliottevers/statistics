{
 "cells": [
  {
   "cell_type": "markdown",
   "metadata": {},
   "source": [
    "`Random Variable`:\n",
    "\n",
    "Real X(Outcome omege) {\n",
    "\n",
    "}\n",
    "\n",
    "`P(X \\in A)`\n",
    "\n",
    "Probability P(Set<Outcome> A, RandomVariable X) {\n",
    "        Set<Real> range = range(X).where(lambda real: real \\in A)\n",
    "        Set<Outcome> omega = domain(range)\n",
    "        return P(omega)\n",
    "}\n",
    "\n",
    "`X ~ P`:\n",
    "\n",
    "X has distribution P\n",
    "\n",
    "`CDF` F_{X}(x) = F(x) = P(X <= x):\n",
    "\n",
    "RandomVariable X\n",
    "Real x\n",
    "Set<Real> A = range(X).where(lamba y: x <= y)\n",
    "CDF = P(X \\in A)\n",
    "\n",
    "`Properties of CDF`:\n",
    "\n",
    "right-continuous:\n",
    "        F(x) = lim _ {n -> \\infty} F(y_{n}) if y_{n} -> x, y_{n} > x\n",
    "        if we know a sequence that converges to x in domain, only need to know output values of terms of the sequence to compute F(x)\n",
    "non-decreasing:\n",
    "\n",
    "normalized\n",
    "\n",
    "`pmf` p_{X}(x) = p(x) = :\n",
    "\n",
    "Probability p(RandomVariable X, Real x){\n",
    "        Set<Real> A = range(X).where(lambda y: y == x)\n",
    "        return P(X \\in A)\n",
    "}"
   ]
  }
 ],
 "metadata": {
  "kernelspec": {
   "display_name": "Python 3",
   "language": "python",
   "name": "python3"
  },
  "language_info": {
   "codemirror_mode": {
    "name": "ipython",
    "version": 3
   },
   "file_extension": ".py",
   "mimetype": "text/x-python",
   "name": "python",
   "nbconvert_exporter": "python",
   "pygments_lexer": "ipython3",
   "version": "3.7.0"
  }
 },
 "nbformat": 4,
 "nbformat_minor": 2
}
